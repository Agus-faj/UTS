{
 "cells": [
  {
   "cell_type": "markdown",
   "metadata": {},
   "source": [
    "### SOAL UAS\n",
    "1. Jawablah soal - soal dibawah ini pada baris yang sudah disediakan.\n",
    "2. Jawaban diunggah pada folder github masing - masing mahasiswa dijadikan satu dengan tugas - tugas sesudah UTS \n",
    "3. Dikumpulkan paling lambat 7 Juli 2020 Jam 24.00\n"
   ]
  },
  {
   "cell_type": "code",
   "execution_count": null,
   "metadata": {},
   "outputs": [],
   "source": [
    "Berikut ini adalah contoh pengkodean lambda : \n",
    "(Jika ada kekeliruan dalam syntax silahkan dibetulkan)"
   ]
  },
  {
   "cell_type": "markdown",
   "metadata": {},
   "source": [
    "``` javascript\n",
    "\n",
    "publik clas ContohLambda{\n",
    "\n",
    "    public static void main(){\n",
    "      ContohLambda obj = new ContohLambda();\n",
    "  \n",
    "      //dengan type declaration tanpa kurung kurawal\n",
    "      OperasiPerhitungan penjumlahan = (int a, int b) -> a + b;\n",
    "        \n",
    "       //dengan return statement dan dengan kurung kurawal\n",
    "      OperasiPerhitungan penjumlahan2 = (int a, int b) -> { return a + b; };\n",
    "  \n",
    "   \n",
    "  \n",
    "      system.out.println(\"10 + 5 = \" + obj.operate(10, 5, penjumlahan));\n",
    "      system.out.println(\"10 - 5 = \" + obj.operate(10, 5, penjumlahan2));\n",
    "  \n",
    "      //dengan parenthesis\n",
    "      msgService greetService1 = message -> system.out.println(\"Hello \" + message);\n",
    "  \n",
    "      //tanpa parenthesis\n",
    "      msgService greetService2 = (message) -> System.out.println(\"msg. \" + message);\n",
    "  \n",
    "      greetService1.sayMessage(\"Helloo\");\n",
    "      greetService2.sayMessage(\"Anonim\");\n",
    "   }\n",
    " \n",
    "   private interface OperasiPerhitungan{\n",
    "      int operation(int a, int b);\n",
    "   }\n",
    " \n",
    "   private interface msgService{\n",
    "      void sayMessage(String message);\n",
    "   }\n",
    " \n",
    "   private int operate(int a, int b, OperasiPerhitungan op){\n",
    "      return op.operation(a, b);\n",
    "   }\n",
    "\n",
    "}\n",
    "\n",
    "``` "
   ]
  },
  {
   "cell_type": "code",
   "execution_count": 12,
   "metadata": {},
   "outputs": [
    {
     "data": {
      "text/plain": [
       "com.twosigma.beaker.javash.bkr3e921b63.ContohLambdaJava8"
      ]
     },
     "execution_count": 12,
     "metadata": {},
     "output_type": "execute_result"
    }
   ],
   "source": [
    "public class ContohLambdaJava8 {\n",
    "\n",
    "    public static void main(String args[]){\n",
    "      ContohLambdaJava8 obj = new ContohLambdaJava8();\n",
    "  \n",
    "      //dengan type declaration\n",
    "      OperasiPerhitungan penjumlahan = (int a, int b) -> a + b;\n",
    "  \n",
    "      //tanpa type declaration\n",
    "      OperasiPerhitungan pengurangan = (a, b) -> a - b;\n",
    "  \n",
    "      System.out.println(\"10 + 5 = \" + obj.operate(10, 5, penjumlahan));\n",
    "      System.out.println(\"10 - 5 = \" + obj.operate(10, 5, pengurangan));\n",
    "    \n",
    "      //dengan parenthesis\n",
    "      GreetingService greetService1 = message ->System.out.println(\"Hello \" + message);\n",
    "  \n",
    "      //tanpa parenthesis\n",
    "      GreetingService greetService2 = (message)->System.out.println(\"Hello \" + message);\n",
    "  \n",
    "      greetService1.sayMessage(\"Kitty\");\n",
    "      greetService2.sayMessage(\"Pikachu\");\n",
    "   }\n",
    " \n",
    "   private interface OperasiPerhitungan {\n",
    "      int operation(int a, int b);\n",
    "   }\n",
    " \n",
    "   private interface GreetingService {\n",
    "      void sayMessage(String message);\n",
    "   }\n",
    " \n",
    "   private int operate(int a, int b, OperasiPerhitungan op){\n",
    "      return op.operation(a, b);\n",
    "   }\n",
    "\n",
    "}"
   ]
  },
  {
   "cell_type": "markdown",
   "metadata": {},
   "source": [
    "[Soal 1]\n",
    "\n",
    "Jelaskan mengenai ekspresi lambda dalam pemrograman java? Apa saja yang menjadi karakteristik dari ekspresi tersebut?\n",
    "*(nilai 30)*"
   ]
  },
  {
   "cell_type": "markdown",
   "metadata": {},
   "source": [
    "jawab :\n",
    "Lambda expression digunakan terutama untuk mendefinisikan implementasi dari interface fungsional, yaitu interface dengan satu method saja. Pada contoh di atas, kita telah menggunakan berbagai jenis lambda exspression untuk menentukan method operation interface MathOperation. Kemudian kita telah mendefinisikan implementasi sayMessage dari interface GreetingService.\n",
    "    \n",
    "Lambda expression menghilangkan kebutuhan anonymous class dan memberikan kemudahan pemrograman fungsional namun memiliki powerfull yang dapat diandalkan ke java 8.\n",
    "\n",
    "\n",
    "\n"
   ]
  },
  {
   "cell_type": "markdown",
   "metadata": {},
   "source": [
    "[Soal 2]\n",
    "\n",
    "Implementasikan ekspresi lambda dari kasus UTS bangun datar anda *(nilai 70)*"
   ]
  },
  {
   "cell_type": "code",
   "execution_count": 13,
   "metadata": {},
   "outputs": [
    {
     "data": {
      "text/plain": [
       "com.twosigma.beaker.javash.bkr3e921b63.limas"
      ]
     },
     "execution_count": 13,
     "metadata": {},
     "output_type": "execute_result"
    }
   ],
   "source": [
    "\n",
    "\n",
    "import java.util.Scanner;\n",
    "class limas{\n",
    "    float lebar;\n",
    "    float tinggi;\n",
    "    float panjang;\n",
    "    float volume;\n",
    "    // ruumus limas segiempat\n",
    "    void hitungVolume(){\n",
    "        volume=(((panjang*lebar)*1/2)*tinggi)*1/3;\n",
    "    }\n",
    "    float fungsiHitung(){\n",
    "        hitungVolume();\n",
    "        return volume;\n",
    "    }\n",
    "}\n",
    "\n",
    "\n",
    "\n"
   ]
  },
  {
   "cell_type": "code",
   "execution_count": 14,
   "metadata": {},
   "outputs": [
    {
     "name": "stdout",
     "output_type": "stream",
     "text": [
      "volume limas  : 3.3333333\n"
     ]
    },
    {
     "data": {
      "text/plain": [
       "null"
      ]
     },
     "execution_count": 14,
     "metadata": {},
     "output_type": "execute_result"
    }
   ],
   "source": [
    "//IMPLEMENTASI DARI CODE DI ATAS\n",
    "limas objlimas=new limas();\n",
    "objlimas.lebar=5;\n",
    "objlimas.tinggi=2;\n",
    "objlimas.panjang=2;\n",
    "System.out.println(\"volume limas  : \"+objlimas.fungsiHitung());"
   ]
  },
  {
   "cell_type": "markdown",
   "metadata": {},
   "source": [
    "\n"
   ]
  }
 ],
 "metadata": {
  "kernelspec": {
   "display_name": "Java",
   "language": "java",
   "name": "java"
  },
  "language_info": {
   "codemirror_mode": "text/x-java",
   "file_extension": ".java",
   "mimetype": "",
   "name": "Java",
   "nbconverter_exporter": "",
   "version": "1.8.0_121"
  },
  "toc": {
   "base_numbering": 1,
   "nav_menu": {},
   "number_sections": false,
   "sideBar": false,
   "skip_h1_title": false,
   "title_cell": "Table of Contents",
   "title_sidebar": "Contents",
   "toc_cell": false,
   "toc_position": {},
   "toc_section_display": false,
   "toc_window_display": false
  }
 },
 "nbformat": 4,
 "nbformat_minor": 4
}
