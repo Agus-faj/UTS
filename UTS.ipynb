{
 "cells": [
  {
   "cell_type": "code",
   "execution_count": 4,
   "metadata": {},
   "outputs": [
    {
     "data": {
      "text/plain": [
       "com.twosigma.beaker.javash.bkrb3aa8ee8.limas"
      ]
     },
     "execution_count": 4,
     "metadata": {},
     "output_type": "execute_result"
    }
   ],
   "source": [
    "import java.util.Scanner;\n",
    "class limas{\n",
    "    float lebar;\n",
    "    float tinggi;\n",
    "    float panjang;\n",
    "    float volume;\n",
    "    // ruumus limas segiempat\n",
    "    void hitungVolume(){\n",
    "        volume=(((panjang*lebar)*1/2)*tinggi)*1/3;\n",
    "    }\n",
    "    float fungsiHitung(){\n",
    "        hitungVolume();\n",
    "        return volume;\n",
    "    }\n",
    "}"
   ]
  },
  {
   "cell_type": "code",
   "execution_count": 10,
   "metadata": {},
   "outputs": [
    {
     "name": "stdout",
     "output_type": "stream",
     "text": [
      "volume limas  : 3.3333333\n"
     ]
    },
    {
     "data": {
      "text/plain": [
       "null"
      ]
     },
     "execution_count": 10,
     "metadata": {},
     "output_type": "execute_result"
    }
   ],
   "source": [
    "//IMPLEMENTASI DARI CODE DI ATAS\n",
    "limas objlimas=new limas();\n",
    "objlimas.lebar=5;\n",
    "objlimas.tinggi=2;\n",
    "objlimas.panjang=2;\n",
    "System.out.println(\"volume limas  : \"+objlimas.fungsiHitung());"
   ]
  },
  {
   "cell_type": "code",
   "execution_count": null,
   "metadata": {},
   "outputs": [],
   "source": []
  }
 ],
 "metadata": {
  "kernelspec": {
   "display_name": "Java",
   "language": "java",
   "name": "java"
  },
  "language_info": {
   "codemirror_mode": "text/x-java",
   "file_extension": ".java",
   "mimetype": "",
   "name": "Java",
   "nbconverter_exporter": "",
   "version": "1.8.0_121"
  },
  "toc": {
   "base_numbering": 1,
   "nav_menu": {},
   "number_sections": false,
   "sideBar": false,
   "skip_h1_title": false,
   "title_cell": "Table of Contents",
   "title_sidebar": "Contents",
   "toc_cell": false,
   "toc_position": {},
   "toc_section_display": false,
   "toc_window_display": false
  }
 },
 "nbformat": 4,
 "nbformat_minor": 2
}
